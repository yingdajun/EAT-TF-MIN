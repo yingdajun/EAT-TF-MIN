{
 "cells": [
  {
   "cell_type": "code",
   "execution_count": 1,
   "metadata": {
    "collapsed": true
   },
   "outputs": [],
   "source": [
    "import tensorflow as tf\n",
    "from sklearn.model_selection import train_test_split\n",
    "from sklearn.datasets import load_boston,load_digits"
   ]
  },
  {
   "cell_type": "code",
   "execution_count": 2,
   "metadata": {},
   "outputs": [
    {
     "name": "stdout",
     "output_type": "stream",
     "text": [
      "(180, 64)\n",
      "(180,)\n"
     ]
    }
   ],
   "source": [
    "X_digit,y_digit= load_digits(return_X_y=True)\n",
    "\n",
    "x_train_digit,x_test_digit,y_train_digit,y_test_digit=train_test_split(\n",
    "    X_digit,y_digit,random_state=22,test_size=0.1)\n",
    "\n",
    "print(x_test_digit.shape)\n",
    "\n",
    "print(y_test_digit.shape)"
   ]
  },
  {
   "cell_type": "code",
   "execution_count": 61,
   "metadata": {
    "collapsed": true
   },
   "outputs": [],
   "source": [
    "x_train_digit_change=x_train_digit.reshape(-1,8,8,1)"
   ]
  },
  {
   "cell_type": "code",
   "execution_count": 62,
   "metadata": {},
   "outputs": [
    {
     "name": "stdout",
     "output_type": "stream",
     "text": [
      "(1617, 8, 8, 1)\n"
     ]
    }
   ],
   "source": [
    "print(x_train_digit_change.shape)"
   ]
  },
  {
   "cell_type": "code",
   "execution_count": 7,
   "metadata": {},
   "outputs": [
    {
     "data": {
      "text/plain": [
       "(1617, 64)"
      ]
     },
     "execution_count": 7,
     "metadata": {},
     "output_type": "execute_result"
    }
   ],
   "source": [
    "x_train_digit.shape"
   ]
  },
  {
   "cell_type": "code",
   "execution_count": 43,
   "metadata": {},
   "outputs": [
    {
     "data": {
      "text/plain": [
       "array([5, 0, 1, ..., 0, 2, 5])"
      ]
     },
     "execution_count": 43,
     "metadata": {},
     "output_type": "execute_result"
    }
   ],
   "source": [
    "y_train_digit"
   ]
  },
  {
   "cell_type": "code",
   "execution_count": 3,
   "metadata": {
    "collapsed": true
   },
   "outputs": [],
   "source": [
    "# 导入深度学习库\n",
    "import tensorflow as tf\n",
    "from tensorflow.keras import optimizers,losses,metrics,callbacks\n",
    "from tensorflow.keras.utils import to_categorical\n",
    "\n",
    "# 由于这是一个二分类问题，所以取出来对应的损失函数与衡量标准\n",
    "\n",
    "from tensorflow.keras.metrics import Accuracy,Precision,Recall,AUC\n",
    "\n",
    "# 评估标准实体化\n",
    "\n",
    "acc=Accuracy()\n",
    "auc=AUC()\n",
    "precision=Precision()\n",
    "recall=Recall()\n",
    "\n",
    "from tensorflow.keras.optimizers import Adam,Adagrad,Adadelta,Nadam,RMSprop,SGD\n",
    "\n",
    "# 优化器实体化\n",
    "adam=Adam()\n",
    "adagrad=Adagrad()\n",
    "adadelta=Adadelta()\n",
    "nadam=Nadam()\n",
    "rms=RMSprop()\n",
    "sgd=SGD()\n",
    "\n",
    "\n",
    "from tensorflow.keras.losses import BinaryCrossentropy,Hinge\n",
    "\n",
    "# 损失函数实体化\n",
    "\n",
    "bc=BinaryCrossentropy()\n",
    "hinge=Hinge()\n",
    "\n",
    "\n",
    "from tensorflow.keras.callbacks import EarlyStopping,ReduceLROnPlateau\n",
    "\n",
    "# 回调函数函数实体化\n",
    "\n",
    "#如果loss在100个epoch后没有提升，学习率减半。\n",
    "lr_callback = ReduceLROnPlateau(monitor=\"accuracy\",factor = 0.5, patience = 100)\n",
    "#当loss在200个epoch后没有提升，则提前终止训练。\n",
    "stop_callback = EarlyStopping(monitor = \"accuracy\", patience= 200)\n",
    "callbacks_list = [lr_callback,stop_callback]\n",
    "\n",
    "\n",
    "from tensorflow.keras.layers import Input,Dense,Conv2D,MaxPool2D,Dropout,Flatten\n",
    "from tensorflow.keras.models import Sequential,Model\n",
    "\n"
   ]
  },
  {
   "cell_type": "code",
   "execution_count": 4,
   "metadata": {
    "collapsed": true
   },
   "outputs": [],
   "source": [
    "from tensorflow.keras import layers,models"
   ]
  },
  {
   "cell_type": "code",
   "execution_count": null,
   "metadata": {
    "collapsed": true
   },
   "outputs": [],
   "source": [
    "tf.keras.backend.clear_session() #清空会话\n",
    "\n",
    "inputs = layers.Input(shape=(8,8,1))\n",
    "x = layers.Conv2D(64,kernel_size=(3,3))(inputs)\n",
    "x = layers.MaxPool2D()(x)\n",
    "x = layers.Conv2D(64,kernel_size=(5,5))(x)\n",
    "x = layers.MaxPool2D()(x)\n",
    "x = layers.Dropout(rate=0.1)(x)\n",
    "x = layers.Flatten()(x)\n",
    "x = layers.Dense(8,activation='relu')(x)\n",
    "outputs = layers.Dense(1,activation = 'sigmoid')(x)\n",
    "\n",
    "model = models.Model(inputs = inputs,outputs = outputs)\n",
    "\n",
    "model.summary()"
   ]
  },
  {
   "cell_type": "code",
   "execution_count": 92,
   "metadata": {},
   "outputs": [
    {
     "name": "stdout",
     "output_type": "stream",
     "text": [
      "Model: \"sequential_37\"\n",
      "_________________________________________________________________\n",
      "Layer (type)                 Output Shape              Param #   \n",
      "=================================================================\n",
      "conv2d_56 (Conv2D)           (None, 6, 6, 32)          320       \n",
      "_________________________________________________________________\n",
      "max_pooling2d_43 (MaxPooling (None, 3, 3, 32)          0         \n",
      "_________________________________________________________________\n",
      "dropout_10 (Dropout)         (None, 3, 3, 32)          0         \n",
      "_________________________________________________________________\n",
      "flatten_9 (Flatten)          (None, 288)               0         \n",
      "_________________________________________________________________\n",
      "dense_15 (Dense)             (None, 8)                 2312      \n",
      "_________________________________________________________________\n",
      "dense_16 (Dense)             (None, 10)                90        \n",
      "=================================================================\n",
      "Total params: 2,722\n",
      "Trainable params: 2,722\n",
      "Non-trainable params: 0\n",
      "_________________________________________________________________\n"
     ]
    }
   ],
   "source": [
    "model = models.Sequential() \n",
    "model.add(layers.Conv2D(32,(3,3),activation='relu',input_shape=(8,8,1)))\n",
    "#紧跟一个池化层，使用MaxPooling2D提取图像特征最强的像素\n",
    "model.add(MaxPool2D())\n",
    "model.add(Dropout(rate=0.1))\n",
    "model.add(Flatten())\n",
    "model.add(Dense(8,activation='relu'))\n",
    "model.add(Dense(10,activation = 'softmax'))\n",
    "\n",
    "# model.add(layers.MaxPool2D())\n",
    "# model.add(Conv2D(64,kernel_size=(5,5)))\n",
    "# model.add(layers.Conv2D(32,(3,3),activation='relu',input_shape=))\n",
    "model.summary()"
   ]
  },
  {
   "cell_type": "code",
   "execution_count": 93,
   "metadata": {
    "collapsed": true
   },
   "outputs": [],
   "source": [
    "model.compile(optimizer=adam,loss='categorical_crossentropy',metrics=['Accuracy'])"
   ]
  },
  {
   "cell_type": "code",
   "execution_count": 94,
   "metadata": {
    "collapsed": true
   },
   "outputs": [],
   "source": [
    "y_train_digit_change=to_categorical(y_train_digit,10)\n",
    "y_test_digit_change=to_categorical(y_test_digit,10)"
   ]
  },
  {
   "cell_type": "code",
   "execution_count": 95,
   "metadata": {},
   "outputs": [
    {
     "data": {
      "text/plain": [
       "(1617, 8, 8, 1)"
      ]
     },
     "execution_count": 95,
     "metadata": {},
     "output_type": "execute_result"
    }
   ],
   "source": [
    "x_train_digit_change.shape"
   ]
  },
  {
   "cell_type": "code",
   "execution_count": 96,
   "metadata": {},
   "outputs": [
    {
     "data": {
      "text/plain": [
       "(1617, 8, 8, 1)"
      ]
     },
     "execution_count": 96,
     "metadata": {},
     "output_type": "execute_result"
    }
   ],
   "source": [
    "x_train_digit_change.shape"
   ]
  },
  {
   "cell_type": "code",
   "execution_count": 97,
   "metadata": {},
   "outputs": [
    {
     "data": {
      "text/plain": [
       "(1617, 10)"
      ]
     },
     "execution_count": 97,
     "metadata": {},
     "output_type": "execute_result"
    }
   ],
   "source": [
    "y_train_digit_change.shape"
   ]
  },
  {
   "cell_type": "code",
   "execution_count": 98,
   "metadata": {},
   "outputs": [
    {
     "name": "stdout",
     "output_type": "stream",
     "text": [
      "Epoch 1/100\n",
      "51/51 [==============================] - 0s 3ms/step - loss: 2.3665 - accuracy: 0.0000e+00\n",
      "Epoch 2/100\n",
      "51/51 [==============================] - 0s 4ms/step - loss: 2.3031 - accuracy: 0.0000e+00\n",
      "Epoch 3/100\n",
      "51/51 [==============================] - 0s 4ms/step - loss: 2.3027 - accuracy: 0.0000e+00\n",
      "Epoch 4/100\n",
      "51/51 [==============================] - 0s 4ms/step - loss: 2.3026 - accuracy: 0.0000e+00\n",
      "Epoch 5/100\n",
      "51/51 [==============================] - 0s 4ms/step - loss: 2.3027 - accuracy: 0.0000e+00\n",
      "Epoch 6/100\n",
      "51/51 [==============================] - 0s 4ms/step - loss: 2.3026 - accuracy: 0.0000e+00\n",
      "Epoch 7/100\n",
      "51/51 [==============================] - 0s 4ms/step - loss: 2.3025 - accuracy: 0.0000e+00\n",
      "Epoch 8/100\n",
      "51/51 [==============================] - 0s 4ms/step - loss: 2.3025 - accuracy: 0.0000e+00\n",
      "Epoch 9/100\n",
      "51/51 [==============================] - 0s 4ms/step - loss: 2.3024 - accuracy: 0.0000e+00\n",
      "Epoch 10/100\n",
      "51/51 [==============================] - 0s 4ms/step - loss: 2.3024 - accuracy: 0.0000e+00\n",
      "Epoch 11/100\n",
      "51/51 [==============================] - 0s 4ms/step - loss: 2.3024 - accuracy: 0.0000e+00\n",
      "Epoch 12/100\n",
      "51/51 [==============================] - 0s 4ms/step - loss: 2.3024 - accuracy: 0.0000e+00\n",
      "Epoch 13/100\n",
      "51/51 [==============================] - 0s 5ms/step - loss: 2.3024 - accuracy: 0.0000e+00\n",
      "Epoch 14/100\n",
      "51/51 [==============================] - 0s 5ms/step - loss: 2.3025 - accuracy: 0.0000e+00\n",
      "Epoch 15/100\n",
      "51/51 [==============================] - 0s 4ms/step - loss: 2.3024 - accuracy: 0.0000e+00\n",
      "Epoch 16/100\n",
      "51/51 [==============================] - 0s 4ms/step - loss: 2.3024 - accuracy: 0.0000e+00\n",
      "Epoch 17/100\n",
      "51/51 [==============================] - 0s 4ms/step - loss: 2.3024 - accuracy: 0.0000e+00\n",
      "Epoch 18/100\n",
      "51/51 [==============================] - 0s 3ms/step - loss: 2.3024 - accuracy: 0.0000e+00\n",
      "Epoch 19/100\n",
      "51/51 [==============================] - 0s 4ms/step - loss: 2.3024 - accuracy: 0.0000e+00\n",
      "Epoch 20/100\n",
      "51/51 [==============================] - 0s 4ms/step - loss: 2.3023 - accuracy: 0.0000e+00\n",
      "Epoch 21/100\n",
      "51/51 [==============================] - 0s 4ms/step - loss: 2.3024 - accuracy: 0.0000e+00\n",
      "Epoch 22/100\n",
      "51/51 [==============================] - 0s 4ms/step - loss: 2.3023 - accuracy: 0.0000e+00\n",
      "Epoch 23/100\n",
      "51/51 [==============================] - ETA: 0s - loss: 2.3029 - accuracy: 0.0000e+ - 0s 4ms/step - loss: 2.3024 - accuracy: 0.0000e+00\n",
      "Epoch 24/100\n",
      "51/51 [==============================] - 0s 4ms/step - loss: 2.3023 - accuracy: 0.0000e+00\n",
      "Epoch 25/100\n",
      "51/51 [==============================] - 0s 4ms/step - loss: 2.3024 - accuracy: 0.0000e+00\n",
      "Epoch 26/100\n",
      "51/51 [==============================] - 0s 4ms/step - loss: 2.3023 - accuracy: 0.0000e+00\n",
      "Epoch 27/100\n",
      "51/51 [==============================] - 0s 3ms/step - loss: 2.3023 - accuracy: 0.0000e+00\n",
      "Epoch 28/100\n",
      "51/51 [==============================] - 0s 4ms/step - loss: 2.3024 - accuracy: 0.0000e+00\n",
      "Epoch 29/100\n",
      "51/51 [==============================] - 0s 4ms/step - loss: 2.3024 - accuracy: 0.0000e+00\n",
      "Epoch 30/100\n",
      "51/51 [==============================] - 0s 4ms/step - loss: 2.3024 - accuracy: 0.0000e+00\n",
      "Epoch 31/100\n",
      "51/51 [==============================] - 0s 4ms/step - loss: 2.3023 - accuracy: 0.0000e+00\n",
      "Epoch 32/100\n",
      "51/51 [==============================] - 0s 4ms/step - loss: 2.3023 - accuracy: 0.0000e+00\n",
      "Epoch 33/100\n",
      "51/51 [==============================] - 0s 4ms/step - loss: 2.3023 - accuracy: 0.0000e+00\n",
      "Epoch 34/100\n",
      "51/51 [==============================] - 0s 4ms/step - loss: 2.3024 - accuracy: 0.0000e+00\n",
      "Epoch 35/100\n",
      "51/51 [==============================] - 0s 3ms/step - loss: 2.3023 - accuracy: 0.0000e+00\n",
      "Epoch 36/100\n",
      "51/51 [==============================] - 0s 4ms/step - loss: 2.3023 - accuracy: 0.0000e+00\n",
      "Epoch 37/100\n",
      "51/51 [==============================] - 0s 4ms/step - loss: 2.3024 - accuracy: 0.0000e+00\n",
      "Epoch 38/100\n",
      "51/51 [==============================] - 0s 3ms/step - loss: 2.3023 - accuracy: 0.0000e+00\n",
      "Epoch 39/100\n",
      "51/51 [==============================] - 0s 4ms/step - loss: 2.3024 - accuracy: 0.0000e+00\n",
      "Epoch 40/100\n",
      "51/51 [==============================] - 0s 4ms/step - loss: 2.3023 - accuracy: 0.0000e+00\n",
      "Epoch 41/100\n",
      "51/51 [==============================] - 0s 5ms/step - loss: 2.3024 - accuracy: 0.0000e+00\n",
      "Epoch 42/100\n",
      "51/51 [==============================] - 0s 4ms/step - loss: 2.3024 - accuracy: 0.0000e+00\n",
      "Epoch 43/100\n",
      "51/51 [==============================] - 0s 3ms/step - loss: 2.3023 - accuracy: 0.0000e+00\n",
      "Epoch 44/100\n",
      "51/51 [==============================] - 0s 3ms/step - loss: 2.3024 - accuracy: 0.0000e+00\n",
      "Epoch 45/100\n",
      "51/51 [==============================] - 0s 3ms/step - loss: 2.3024 - accuracy: 0.0000e+00\n",
      "Epoch 46/100\n",
      "51/51 [==============================] - 0s 4ms/step - loss: 2.3023 - accuracy: 0.0000e+00\n",
      "Epoch 47/100\n",
      "51/51 [==============================] - 0s 3ms/step - loss: 2.3023 - accuracy: 0.0000e+00\n",
      "Epoch 48/100\n",
      "51/51 [==============================] - 0s 3ms/step - loss: 2.3024 - accuracy: 0.0000e+00\n",
      "Epoch 49/100\n",
      "51/51 [==============================] - 0s 3ms/step - loss: 2.3023 - accuracy: 0.0000e+00\n",
      "Epoch 50/100\n",
      "51/51 [==============================] - 0s 4ms/step - loss: 2.3023 - accuracy: 0.0000e+00\n",
      "Epoch 51/100\n",
      "51/51 [==============================] - 0s 4ms/step - loss: 2.3024 - accuracy: 0.0000e+00\n",
      "Epoch 52/100\n",
      "51/51 [==============================] - 0s 3ms/step - loss: 2.3023 - accuracy: 0.0000e+00\n",
      "Epoch 53/100\n",
      "51/51 [==============================] - 0s 4ms/step - loss: 2.3023 - accuracy: 0.0000e+00\n",
      "Epoch 54/100\n",
      "51/51 [==============================] - 0s 3ms/step - loss: 2.3023 - accuracy: 0.0000e+00\n",
      "Epoch 55/100\n",
      "51/51 [==============================] - 0s 3ms/step - loss: 2.3023 - accuracy: 0.0000e+00\n",
      "Epoch 56/100\n",
      "51/51 [==============================] - 0s 3ms/step - loss: 2.3024 - accuracy: 0.0000e+00\n",
      "Epoch 57/100\n",
      "51/51 [==============================] - 0s 3ms/step - loss: 2.3023 - accuracy: 0.0000e+00\n",
      "Epoch 58/100\n",
      "51/51 [==============================] - 0s 3ms/step - loss: 2.3023 - accuracy: 0.0000e+00\n",
      "Epoch 59/100\n",
      "51/51 [==============================] - 0s 4ms/step - loss: 2.3023 - accuracy: 0.0000e+00\n",
      "Epoch 60/100\n",
      "51/51 [==============================] - 0s 3ms/step - loss: 2.3023 - accuracy: 0.0000e+00\n",
      "Epoch 61/100\n",
      "51/51 [==============================] - 0s 3ms/step - loss: 2.3023 - accuracy: 0.0000e+00\n",
      "Epoch 62/100\n",
      "51/51 [==============================] - 0s 3ms/step - loss: 2.3023 - accuracy: 0.0000e+00\n",
      "Epoch 63/100\n",
      "51/51 [==============================] - 0s 3ms/step - loss: 2.3023 - accuracy: 0.0000e+00\n",
      "Epoch 64/100\n",
      "51/51 [==============================] - 0s 4ms/step - loss: 2.3023 - accuracy: 0.0000e+00\n",
      "Epoch 65/100\n",
      "51/51 [==============================] - 0s 3ms/step - loss: 2.3023 - accuracy: 0.0000e+00\n",
      "Epoch 66/100\n",
      "51/51 [==============================] - 0s 3ms/step - loss: 2.3024 - accuracy: 0.0000e+00\n",
      "Epoch 67/100\n",
      "51/51 [==============================] - 0s 3ms/step - loss: 2.3023 - accuracy: 0.0000e+00\n",
      "Epoch 68/100\n",
      "51/51 [==============================] - 0s 3ms/step - loss: 2.3023 - accuracy: 0.0000e+00\n",
      "Epoch 69/100\n",
      "51/51 [==============================] - 0s 4ms/step - loss: 2.3023 - accuracy: 0.0000e+00\n",
      "Epoch 70/100\n",
      "51/51 [==============================] - 0s 5ms/step - loss: 2.3024 - accuracy: 0.0000e+00\n",
      "Epoch 71/100\n",
      "51/51 [==============================] - 0s 6ms/step - loss: 2.3024 - accuracy: 0.0000e+00: 0s - loss: 2.3022 - accuracy: \n",
      "Epoch 72/100\n",
      "51/51 [==============================] - 0s 4ms/step - loss: 2.3023 - accuracy: 0.0000e+00\n",
      "Epoch 73/100\n",
      "51/51 [==============================] - 0s 4ms/step - loss: 2.3023 - accuracy: 0.0000e+00\n",
      "Epoch 74/100\n",
      "51/51 [==============================] - 0s 3ms/step - loss: 2.3023 - accuracy: 0.0000e+00\n",
      "Epoch 75/100\n",
      "51/51 [==============================] - 0s 4ms/step - loss: 2.3023 - accuracy: 0.0000e+00\n",
      "Epoch 76/100\n",
      "51/51 [==============================] - 0s 3ms/step - loss: 2.3023 - accuracy: 0.0000e+00\n",
      "Epoch 77/100\n",
      "51/51 [==============================] - 0s 3ms/step - loss: 2.3023 - accuracy: 0.0000e+00\n",
      "Epoch 78/100\n",
      "51/51 [==============================] - 0s 3ms/step - loss: 2.3023 - accuracy: 0.0000e+00\n",
      "Epoch 79/100\n"
     ]
    },
    {
     "name": "stdout",
     "output_type": "stream",
     "text": [
      "51/51 [==============================] - 0s 3ms/step - loss: 2.3023 - accuracy: 0.0000e+00\n",
      "Epoch 80/100\n",
      "51/51 [==============================] - 0s 3ms/step - loss: 2.3023 - accuracy: 0.0000e+00\n",
      "Epoch 81/100\n",
      "51/51 [==============================] - 0s 3ms/step - loss: 2.3023 - accuracy: 0.0000e+00\n",
      "Epoch 82/100\n",
      "51/51 [==============================] - 0s 3ms/step - loss: 2.3023 - accuracy: 0.0000e+00\n",
      "Epoch 83/100\n",
      "51/51 [==============================] - 0s 3ms/step - loss: 2.3024 - accuracy: 0.0000e+00\n",
      "Epoch 84/100\n",
      "51/51 [==============================] - 0s 3ms/step - loss: 2.3023 - accuracy: 0.0000e+00\n",
      "Epoch 85/100\n",
      "51/51 [==============================] - 0s 3ms/step - loss: 2.3023 - accuracy: 0.0000e+00\n",
      "Epoch 86/100\n",
      "51/51 [==============================] - 0s 3ms/step - loss: 2.3023 - accuracy: 0.0000e+00\n",
      "Epoch 87/100\n",
      "51/51 [==============================] - 0s 3ms/step - loss: 2.3024 - accuracy: 0.0000e+00\n",
      "Epoch 88/100\n",
      "51/51 [==============================] - 0s 3ms/step - loss: 2.3024 - accuracy: 0.0000e+00\n",
      "Epoch 89/100\n",
      "51/51 [==============================] - 0s 3ms/step - loss: 2.3023 - accuracy: 0.0000e+00\n",
      "Epoch 90/100\n",
      "51/51 [==============================] - 0s 3ms/step - loss: 2.3023 - accuracy: 0.0000e+00\n",
      "Epoch 91/100\n",
      "51/51 [==============================] - 0s 4ms/step - loss: 2.3023 - accuracy: 0.0000e+00\n",
      "Epoch 92/100\n",
      "51/51 [==============================] - 0s 3ms/step - loss: 2.3024 - accuracy: 0.0000e+00\n",
      "Epoch 93/100\n",
      "51/51 [==============================] - 0s 3ms/step - loss: 2.3023 - accuracy: 0.0000e+00\n",
      "Epoch 94/100\n",
      "51/51 [==============================] - 0s 3ms/step - loss: 2.3023 - accuracy: 0.0000e+00\n",
      "Epoch 95/100\n",
      "51/51 [==============================] - 0s 3ms/step - loss: 2.3024 - accuracy: 0.0000e+00\n",
      "Epoch 96/100\n",
      "51/51 [==============================] - 0s 3ms/step - loss: 2.3023 - accuracy: 0.0000e+00\n",
      "Epoch 97/100\n",
      "51/51 [==============================] - 0s 3ms/step - loss: 2.3024 - accuracy: 0.0000e+00\n",
      "Epoch 98/100\n",
      "51/51 [==============================] - 0s 4ms/step - loss: 2.3023 - accuracy: 0.0000e+00\n",
      "Epoch 99/100\n",
      "51/51 [==============================] - 0s 5ms/step - loss: 2.3023 - accuracy: 0.0000e+00\n",
      "Epoch 100/100\n",
      "51/51 [==============================] - 0s 5ms/step - loss: 2.3023 - accuracy: 0.0000e+00\n"
     ]
    },
    {
     "data": {
      "text/plain": [
       "<tensorflow.python.keras.callbacks.History at 0x1346eb76080>"
      ]
     },
     "execution_count": 98,
     "metadata": {},
     "output_type": "execute_result"
    }
   ],
   "source": [
    "model.fit(x_train_digit_change,y_train_digit_change,batch_size=32, epochs=100)"
   ]
  }
 ],
 "metadata": {
  "kernelspec": {
   "display_name": "Python 3",
   "language": "python",
   "name": "python3"
  },
  "language_info": {
   "codemirror_mode": {
    "name": "ipython",
    "version": 3
   },
   "file_extension": ".py",
   "mimetype": "text/x-python",
   "name": "python",
   "nbconvert_exporter": "python",
   "pygments_lexer": "ipython3",
   "version": "3.6.2"
  }
 },
 "nbformat": 4,
 "nbformat_minor": 2
}
